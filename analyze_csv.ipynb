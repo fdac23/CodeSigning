{
 "cells": [
  {
   "cell_type": "code",
   "execution_count": 77,
   "id": "26a1d34a",
   "metadata": {},
   "outputs": [],
   "source": [
    "import numpy as np\n",
    "import pandas as pd\n",
    "import matplotlib.pyplot as plt\n",
    "\n",
    "results_df = pd.read_csv('D:\\Research Results\\CSVs\\\\virusshare_results.csv', low_memory=False)\n",
    "results_df.rename(columns={'Certificate_ID': 'certificate_ID'}, inplace=True)\n",
    "certs_df = pd.read_csv('D:\\Research Results\\CSVs\\\\virusshare_certs.csv')"
   ]
  },
  {
   "cell_type": "code",
   "execution_count": 78,
   "id": "5acba3b6",
   "metadata": {},
   "outputs": [
    {
     "name": "stdout",
     "output_type": "stream",
     "text": [
      "                                            certificate_ID  \\\n",
      "0        virusshare/cs_cert_00030f454f47b70a4bf78347978...   \n",
      "1        virusshare/cs_cert_00030f454f47b70a4bf78347978...   \n",
      "2        virusshare/cs_cert_00030f454f47b70a4bf78347978...   \n",
      "3        virusshare/cs_cert_00030f454f47b70a4bf78347978...   \n",
      "4        virusshare/cs_cert_00030f454f47b70a4bf78347978...   \n",
      "...                                                    ...   \n",
      "1006045  virusshare/cs_cert_fffe7898116ff4541d43de96648...   \n",
      "1006046  virusshare/cs_cert_fffe7898116ff4541d43de96648...   \n",
      "1006047  virusshare/cs_cert_fffe7898116ff4541d43de96648...   \n",
      "1006048  virusshare/cs_cert_fffe7898116ff4541d43de96648...   \n",
      "1006049  virusshare/cs_cert_fffe7898116ff4541d43de96648...   \n",
      "\n",
      "                                                 lint_name result  \n",
      "0        e_subscriber_certificate_country_name_must_appear     NE  \n",
      "1                            e_subject_common_name_missing     NE  \n",
      "2                                e_ev_jurisdiction_missing    NaN  \n",
      "3                e_subject_contains_noninformational_value     NE  \n",
      "4                           e_ev_business_category_missing    NaN  \n",
      "...                                                    ...    ...  \n",
      "1006045                         e_sub_cert_eku_usage_legal     NE  \n",
      "1006046  e_subscriber_certificate_country_name_must_appear     NE  \n",
      "1006047                     e_ev_state_or_province_missing    NaN  \n",
      "1006048                     e_ev_Number_And_Street_Missing    NaN  \n",
      "1006049                       e_sub_cert_key_usage_missing     NE  \n",
      "\n",
      "[1006050 rows x 3 columns]\n",
      "                                          certificate_ID  \\\n",
      "0      virusshare/cs_cert_00030f454f47b70a4bf78347978...   \n",
      "1      virusshare/cs_cert_000411da1d01eab90aa5f5f78bf...   \n",
      "2      virusshare/cs_cert_000699713af78da40f145f29ff9...   \n",
      "3      virusshare/cs_cert_000d2c87030b9dde631ef3034aa...   \n",
      "4      virusshare/cs_cert_000e17da941645378449c0033cf...   \n",
      "...                                                  ...   \n",
      "20116  virusshare/cs_cert_ffea52a64117691a49f887a9b47...   \n",
      "20117  virusshare/cs_cert_ffec955527881549d69ba93a5cc...   \n",
      "20118  virusshare/cs_cert_fff9b9b2ff693ee9ce3b1ef2712...   \n",
      "20119  virusshare/cs_cert_fffe49261dc53984fb8de6e152b...   \n",
      "20120  virusshare/cs_cert_fffe7898116ff4541d43de96648...   \n",
      "\n",
      "          certificate_issuer  \\\n",
      "0          COMODO CA Limited   \n",
      "1               thawte, Inc.   \n",
      "2             VeriSign, Inc.   \n",
      "3          COMODO CA Limited   \n",
      "4           GlobalSign nv-sa   \n",
      "...                      ...   \n",
      "20116       GlobalSign nv-sa   \n",
      "20117   Symantec Corporation   \n",
      "20118           Thawte, Inc.   \n",
      "20119         VeriSign, Inc.   \n",
      "20120  The USERTRUST Network   \n",
      "\n",
      "                                     certificate_subject  \\\n",
      "0                                          Fileadventure   \n",
      "1                                      CONFIRMed app nln   \n",
      "2                                       PasswordBox Inc.   \n",
      "3                                              F & A LTD   \n",
      "4                                  MiniTool Solution Ltd   \n",
      "...                                                  ...   \n",
      "20116  Beijing Qingruan Chuangxiang Information Techn...   \n",
      "20117                               Excellent Technology   \n",
      "20118                           Lenovo (Beijing) Limited   \n",
      "20119                       Fedder  Corporation  Limited   \n",
      "20120                                          ALM Works   \n",
      "\n",
      "                certificate_date  \n",
      "0      2014-07-14 00:00:00+00:00  \n",
      "1      2015-03-03 00:00:00+00:00  \n",
      "2      2012-04-02 00:00:00+00:00  \n",
      "3      2018-03-26 00:00:00+00:00  \n",
      "4      2012-05-21 17:18:09+00:00  \n",
      "...                          ...  \n",
      "20116  2015-06-01 06:40:14+00:00  \n",
      "20117  2015-09-04 00:00:00+00:00  \n",
      "20118  2012-02-15 00:00:00+00:00  \n",
      "20119  2010-09-27 00:00:00+00:00  \n",
      "20120  2011-02-08 00:00:00+00:00  \n",
      "\n",
      "[20121 rows x 4 columns]\n"
     ]
    }
   ],
   "source": [
    "print(results_df)\n",
    "print(certs_df)"
   ]
  },
  {
   "cell_type": "markdown",
   "id": "6d35408b",
   "metadata": {},
   "source": [
    "### Merge the dataframes based on certificate ID:"
   ]
  },
  {
   "cell_type": "code",
   "execution_count": 79,
   "id": "f6061775",
   "metadata": {},
   "outputs": [],
   "source": [
    "merged_df = pd.merge(results_df, certs_df, on=\"certificate_ID\", how=\"left\")"
   ]
  },
  {
   "cell_type": "markdown",
   "id": "d9308ad2",
   "metadata": {},
   "source": [
    "### Remove entries of certificates before September 21, 2016"
   ]
  },
  {
   "cell_type": "code",
   "execution_count": 80,
   "id": "187a0e02",
   "metadata": {},
   "outputs": [],
   "source": [
    "merged_df['certificate_date'] = pd.to_datetime(merged_df['certificate_date'], format='%Y-%m-%d %H:%M:%S%z')\n",
    "merged_df['certificate_date'] = pd.to_datetime(merged_df.certificate_date).dt.tz_localize(None)"
   ]
  },
  {
   "cell_type": "code",
   "execution_count": 81,
   "id": "29897b82",
   "metadata": {},
   "outputs": [
    {
     "data": {
      "text/plain": [
       "certificate_ID                 object\n",
       "lint_name                      object\n",
       "result                         object\n",
       "certificate_issuer             object\n",
       "certificate_subject            object\n",
       "certificate_date       datetime64[ns]\n",
       "dtype: object"
      ]
     },
     "execution_count": 81,
     "metadata": {},
     "output_type": "execute_result"
    }
   ],
   "source": [
    "merged_df.dtypes"
   ]
  },
  {
   "cell_type": "code",
   "execution_count": 82,
   "id": "3f6dd88c",
   "metadata": {},
   "outputs": [
    {
     "data": {
      "text/html": [
       "<div>\n",
       "<style scoped>\n",
       "    .dataframe tbody tr th:only-of-type {\n",
       "        vertical-align: middle;\n",
       "    }\n",
       "\n",
       "    .dataframe tbody tr th {\n",
       "        vertical-align: top;\n",
       "    }\n",
       "\n",
       "    .dataframe thead th {\n",
       "        text-align: right;\n",
       "    }\n",
       "</style>\n",
       "<table border=\"1\" class=\"dataframe\">\n",
       "  <thead>\n",
       "    <tr style=\"text-align: right;\">\n",
       "      <th></th>\n",
       "      <th>certificate_ID</th>\n",
       "      <th>lint_name</th>\n",
       "      <th>result</th>\n",
       "      <th>certificate_issuer</th>\n",
       "      <th>certificate_subject</th>\n",
       "      <th>certificate_date</th>\n",
       "    </tr>\n",
       "  </thead>\n",
       "  <tbody>\n",
       "    <tr>\n",
       "      <th>396205</th>\n",
       "      <td>virusshare/cs_cert_6585261356c35371bd9852c77ee...</td>\n",
       "      <td>e_sub_cert_key_usage_cert_sign_bit_set</td>\n",
       "      <td>pass</td>\n",
       "      <td>COMODO CA Limited</td>\n",
       "      <td>AB eCommerce Inc</td>\n",
       "      <td>2016-09-22 00:00:00</td>\n",
       "    </tr>\n",
       "    <tr>\n",
       "      <th>610476</th>\n",
       "      <td>virusshare/cs_cert_9bd2b7f3ff4ae151a572990e21b...</td>\n",
       "      <td>e_dsa_shorter_than_2048_bits</td>\n",
       "      <td>NaN</td>\n",
       "      <td>COMODO CA Limited</td>\n",
       "      <td>Profi BINEKS</td>\n",
       "      <td>2016-09-22 00:00:00</td>\n",
       "    </tr>\n",
       "    <tr>\n",
       "      <th>610475</th>\n",
       "      <td>virusshare/cs_cert_9bd2b7f3ff4ae151a572990e21b...</td>\n",
       "      <td>e_sub_cert_eku_usage_legal</td>\n",
       "      <td>pass</td>\n",
       "      <td>COMODO CA Limited</td>\n",
       "      <td>Profi BINEKS</td>\n",
       "      <td>2016-09-22 00:00:00</td>\n",
       "    </tr>\n",
       "    <tr>\n",
       "      <th>610474</th>\n",
       "      <td>virusshare/cs_cert_9bd2b7f3ff4ae151a572990e21b...</td>\n",
       "      <td>e_sub_cert_digital_signature_not_set</td>\n",
       "      <td>pass</td>\n",
       "      <td>COMODO CA Limited</td>\n",
       "      <td>Profi BINEKS</td>\n",
       "      <td>2016-09-22 00:00:00</td>\n",
       "    </tr>\n",
       "    <tr>\n",
       "      <th>610473</th>\n",
       "      <td>virusshare/cs_cert_9bd2b7f3ff4ae151a572990e21b...</td>\n",
       "      <td>e_subject_organization_name_missing</td>\n",
       "      <td>pass</td>\n",
       "      <td>COMODO CA Limited</td>\n",
       "      <td>Profi BINEKS</td>\n",
       "      <td>2016-09-22 00:00:00</td>\n",
       "    </tr>\n",
       "    <tr>\n",
       "      <th>...</th>\n",
       "      <td>...</td>\n",
       "      <td>...</td>\n",
       "      <td>...</td>\n",
       "      <td>...</td>\n",
       "      <td>...</td>\n",
       "      <td>...</td>\n",
       "    </tr>\n",
       "    <tr>\n",
       "      <th>744423</th>\n",
       "      <td>virusshare/cs_cert_bdf8b59f1345b25b80cce4760a6...</td>\n",
       "      <td>e_subject_country_not_iso</td>\n",
       "      <td>pass</td>\n",
       "      <td>GlobalSign nv-sa</td>\n",
       "      <td>SMACHNA PLITKA, TOV</td>\n",
       "      <td>2019-01-10 14:03:56</td>\n",
       "    </tr>\n",
       "    <tr>\n",
       "      <th>744424</th>\n",
       "      <td>virusshare/cs_cert_bdf8b59f1345b25b80cce4760a6...</td>\n",
       "      <td>e_sub_cert_key_usage_cert_sign_bit_set</td>\n",
       "      <td>pass</td>\n",
       "      <td>GlobalSign nv-sa</td>\n",
       "      <td>SMACHNA PLITKA, TOV</td>\n",
       "      <td>2019-01-10 14:03:56</td>\n",
       "    </tr>\n",
       "    <tr>\n",
       "      <th>744404</th>\n",
       "      <td>virusshare/cs_cert_bdf8b59f1345b25b80cce4760a6...</td>\n",
       "      <td>e_sub_cert_key_not_critical</td>\n",
       "      <td>pass</td>\n",
       "      <td>GlobalSign nv-sa</td>\n",
       "      <td>SMACHNA PLITKA, TOV</td>\n",
       "      <td>2019-01-10 14:03:56</td>\n",
       "    </tr>\n",
       "    <tr>\n",
       "      <th>744415</th>\n",
       "      <td>virusshare/cs_cert_bdf8b59f1345b25b80cce4760a6...</td>\n",
       "      <td>e_ev_business_category_missing</td>\n",
       "      <td>NaN</td>\n",
       "      <td>GlobalSign nv-sa</td>\n",
       "      <td>SMACHNA PLITKA, TOV</td>\n",
       "      <td>2019-01-10 14:03:56</td>\n",
       "    </tr>\n",
       "    <tr>\n",
       "      <th>744425</th>\n",
       "      <td>virusshare/cs_cert_bdf8b59f1345b25b80cce4760a6...</td>\n",
       "      <td>e_ec_improper_curves</td>\n",
       "      <td>NaN</td>\n",
       "      <td>GlobalSign nv-sa</td>\n",
       "      <td>SMACHNA PLITKA, TOV</td>\n",
       "      <td>2019-01-10 14:03:56</td>\n",
       "    </tr>\n",
       "  </tbody>\n",
       "</table>\n",
       "<p>78050 rows × 6 columns</p>\n",
       "</div>"
      ],
      "text/plain": [
       "                                           certificate_ID  \\\n",
       "396205  virusshare/cs_cert_6585261356c35371bd9852c77ee...   \n",
       "610476  virusshare/cs_cert_9bd2b7f3ff4ae151a572990e21b...   \n",
       "610475  virusshare/cs_cert_9bd2b7f3ff4ae151a572990e21b...   \n",
       "610474  virusshare/cs_cert_9bd2b7f3ff4ae151a572990e21b...   \n",
       "610473  virusshare/cs_cert_9bd2b7f3ff4ae151a572990e21b...   \n",
       "...                                                   ...   \n",
       "744423  virusshare/cs_cert_bdf8b59f1345b25b80cce4760a6...   \n",
       "744424  virusshare/cs_cert_bdf8b59f1345b25b80cce4760a6...   \n",
       "744404  virusshare/cs_cert_bdf8b59f1345b25b80cce4760a6...   \n",
       "744415  virusshare/cs_cert_bdf8b59f1345b25b80cce4760a6...   \n",
       "744425  virusshare/cs_cert_bdf8b59f1345b25b80cce4760a6...   \n",
       "\n",
       "                                     lint_name result certificate_issuer  \\\n",
       "396205  e_sub_cert_key_usage_cert_sign_bit_set   pass  COMODO CA Limited   \n",
       "610476            e_dsa_shorter_than_2048_bits    NaN  COMODO CA Limited   \n",
       "610475              e_sub_cert_eku_usage_legal   pass  COMODO CA Limited   \n",
       "610474    e_sub_cert_digital_signature_not_set   pass  COMODO CA Limited   \n",
       "610473     e_subject_organization_name_missing   pass  COMODO CA Limited   \n",
       "...                                        ...    ...                ...   \n",
       "744423               e_subject_country_not_iso   pass   GlobalSign nv-sa   \n",
       "744424  e_sub_cert_key_usage_cert_sign_bit_set   pass   GlobalSign nv-sa   \n",
       "744404             e_sub_cert_key_not_critical   pass   GlobalSign nv-sa   \n",
       "744415          e_ev_business_category_missing    NaN   GlobalSign nv-sa   \n",
       "744425                    e_ec_improper_curves    NaN   GlobalSign nv-sa   \n",
       "\n",
       "        certificate_subject    certificate_date  \n",
       "396205     AB eCommerce Inc 2016-09-22 00:00:00  \n",
       "610476         Profi BINEKS 2016-09-22 00:00:00  \n",
       "610475         Profi BINEKS 2016-09-22 00:00:00  \n",
       "610474         Profi BINEKS 2016-09-22 00:00:00  \n",
       "610473         Profi BINEKS 2016-09-22 00:00:00  \n",
       "...                     ...                 ...  \n",
       "744423  SMACHNA PLITKA, TOV 2019-01-10 14:03:56  \n",
       "744424  SMACHNA PLITKA, TOV 2019-01-10 14:03:56  \n",
       "744404  SMACHNA PLITKA, TOV 2019-01-10 14:03:56  \n",
       "744415  SMACHNA PLITKA, TOV 2019-01-10 14:03:56  \n",
       "744425  SMACHNA PLITKA, TOV 2019-01-10 14:03:56  \n",
       "\n",
       "[78050 rows x 6 columns]"
      ]
     },
     "execution_count": 82,
     "metadata": {},
     "output_type": "execute_result"
    }
   ],
   "source": [
    "import datetime\n",
    "\n",
    "mrfcsc_date = np.datetime64('2016-09-21 00:00:00')\n",
    "\n",
    "# Drop all rows with certificates before Sep 21, 2016\n",
    "\n",
    "filtered_df = merged_df[merged_df['certificate_date'] > mrfcsc_date]\n",
    "filtered_df.sort_values(by=['certificate_date'])"
   ]
  },
  {
   "cell_type": "markdown",
   "id": "28d821e9",
   "metadata": {},
   "source": [
    "### Print Result Stats"
   ]
  },
  {
   "cell_type": "code",
   "execution_count": 83,
   "id": "c574ca6f",
   "metadata": {
    "scrolled": true
   },
   "outputs": [
    {
     "name": "stdout",
     "output_type": "stream",
     "text": [
      "Counter({'warn': 182, 'error': 74})\n",
      "Counter({'pass': 52370, nan: 21845, 'NE': 3579, 'warn': 182, 'error': 74})\n"
     ]
    }
   ],
   "source": [
    "from collections import Counter\n",
    "\n",
    "errors_and_warns_df = filtered_df[(filtered_df['result'] == 'warn') | (filtered_df['result'] == 'error')]\n",
    "errors_and_warns_df.shape\n",
    "errors_vs_warns_count = Counter(errors_and_warns_df['result'])\n",
    "print(errors_vs_warns_count)\n",
    "print(Counter(filtered_df['result']))"
   ]
  },
  {
   "cell_type": "code",
   "execution_count": 84,
   "id": "0aff1bba",
   "metadata": {},
   "outputs": [
    {
     "data": {
      "text/plain": [
       "237"
      ]
     },
     "execution_count": 84,
     "metadata": {},
     "output_type": "execute_result"
    }
   ],
   "source": [
    "# Print the percentage of errors in the dataset:\n",
    "errors_and_warns_df['certificate_ID'].nunique()"
   ]
  },
  {
   "cell_type": "code",
   "execution_count": null,
   "id": "c94fd362",
   "metadata": {},
   "outputs": [],
   "source": [
    "### Find the most common CA's"
   ]
  }
 ],
 "metadata": {
  "kernelspec": {
   "display_name": "Python 3 (ipykernel)",
   "language": "python",
   "name": "python3"
  },
  "language_info": {
   "codemirror_mode": {
    "name": "ipython",
    "version": 3
   },
   "file_extension": ".py",
   "mimetype": "text/x-python",
   "name": "python",
   "nbconvert_exporter": "python",
   "pygments_lexer": "ipython3",
   "version": "3.11.5"
  }
 },
 "nbformat": 4,
 "nbformat_minor": 5
}
